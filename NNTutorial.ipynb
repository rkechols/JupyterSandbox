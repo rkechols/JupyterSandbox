{
 "cells": [
  {
   "cell_type": "code",
   "execution_count": 1,
   "metadata": {
    "collapsed": true
   },
   "outputs": [],
   "source": [
    "# imports\n",
    "import copy\n",
    "from matplotlib import pyplot as plt\n",
    "import time\n",
    "import torch\n",
    "import torch.nn as nn\n",
    "import torch.optim as optim\n",
    "%matplotlib inline\n"
   ]
  },
  {
   "cell_type": "code",
   "execution_count": 2,
   "outputs": [],
   "source": [
    "def argmax_tensor(t: torch.Tensor):\n",
    "\treturn torch.argmax(t).item()\n"
   ],
   "metadata": {
    "collapsed": false,
    "pycharm": {
     "name": "#%%\n"
    }
   }
  },
  {
   "cell_type": "code",
   "execution_count": 3,
   "outputs": [
    {
     "name": "stdout",
     "output_type": "stream",
     "text": [
      "Loaded MNIST data in 1029.2017602920532 seconds\n"
     ]
    }
   ],
   "source": [
    "from torch.utils.data import TensorDataset, DataLoader\n",
    "def read_32bit_uint(file):\n",
    "\treturn int.from_bytes(file.read(4), \"big\", signed=False)\n",
    "\n",
    "def read_byte_uint(file):\n",
    "\treturn int.from_bytes(file.read(1), \"big\", signed=False)\n",
    "\n",
    "# load MNIST data\n",
    "def load_mnist(images_filename, labels_filename):\n",
    "\timages = list()\n",
    "\trows = 0\n",
    "\tcols = 0\n",
    "\twith open(images_filename, 'rb') as file:\n",
    "\t\tmagic_number = read_32bit_uint(file)\n",
    "\t\tnumber_images = read_32bit_uint(file)\n",
    "\t\trows = read_32bit_uint(file)\n",
    "\t\tcols = read_32bit_uint(file)\n",
    "\t\tfor image_index in range(number_images):\n",
    "\t\t\timage = torch.empty([rows, cols])\n",
    "\t\t\tfor row_index in range(rows):\n",
    "\t\t\t\tfor col_index in range(cols):\n",
    "\t\t\t\t\timage[row_index, col_index] = 255 - read_byte_uint(file)\n",
    "\t\t\timages.append(image)\n",
    "\t\n",
    "\tlabels = list()\n",
    "\tlabel_options = set()\n",
    "\twith open(labels_filename, 'rb') as file:\n",
    "\t\tmagic_number = read_32bit_uint(file)\n",
    "\t\tnumber_labels = read_32bit_uint(file)\n",
    "\t\tfor label_index in range(number_labels):\n",
    "\t\t\tthis_label = read_byte_uint(file)\n",
    "\t\t\tlabels.append(this_label)\n",
    "\t\t\tlabel_options.add(this_label)\n",
    "\tlabel_options = list(label_options)\n",
    "\t\n",
    "\treturn [(images[i], labels[i]) for i in range(len(images))], (rows, cols), label_options\n",
    "\t\n",
    "time_load_start = time.time()\n",
    "mnist_training, training_dimensions, training_label_options = load_mnist(\"mnist/training/train-images.idx3-ubyte\", \"mnist/training/train-labels.idx1-ubyte\")\n",
    "mnist_test, test_dimensions, test_label_options = load_mnist(\"mnist/test/t10k-images.idx3-ubyte\", \"mnist/test/t10k-labels.idx1-ubyte\")\n",
    "time_load_end = time.time()\n",
    "print(\"Loaded MNIST data in\", time_load_end - time_load_start, \"seconds\")\n",
    "\n",
    "# construct a dictionary from label value to index in training_label_options\n",
    "label_to_index = dict()\n",
    "for index, label_value in enumerate(training_label_options):\n",
    "\tlabel_to_index[label_value] = index\n"
   ],
   "metadata": {
    "collapsed": false,
    "pycharm": {
     "name": "#%%\n"
    }
   }
  },
  {
   "cell_type": "code",
   "execution_count": 26,
   "outputs": [
    {
     "name": "stdout",
     "output_type": "stream",
     "text": [
      "input dimensions: (28, 28)\n",
      "available labels: [0, 1, 2, 3, 4, 5, 6, 7, 8, 9]\n"
     ]
    }
   ],
   "source": [
    "# verify data\n",
    "if training_dimensions != test_dimensions:\n",
    "\tprint(\"WARNING: training data dimensions and test data dimensions do not match!\")\n",
    "\tprint(\"training dimensions:\", training_dimensions)\n",
    "\tprint(\"test dimensions:\", test_dimensions)\n",
    "else:\n",
    "\tprint(\"input dimensions:\", training_dimensions)\n",
    "if training_label_options != test_label_options:\n",
    "\tprint(\"WARNING: training data labels and test data labels do not match!\")\n",
    "\tprint(\"training labels:\", training_label_options)\n",
    "\tprint(\"test labels:\", test_label_options)\n",
    "else:\n",
    "\tprint(\"available labels:\", test_label_options)\n"
   ],
   "metadata": {
    "collapsed": false,
    "pycharm": {
     "name": "#%%\n"
    }
   }
  },
  {
   "cell_type": "code",
   "execution_count": 27,
   "outputs": [
    {
     "name": "stdout",
     "output_type": "stream",
     "text": [
      "# of training data: 60000\n",
      "# of testing data: 10000\n"
     ]
    },
    {
     "data": {
      "text/plain": "<matplotlib.figure.Figure at 0x7faef40434a8>",
      "image/png": "[encoded data removed]"
     },
     "metadata": {},
     "output_type": "display_data"
    }
   ],
   "source": [
    "# show one of the images to test if we've loaded MNIST data\n",
    "test_image, test_label = mnist_training[0]\n",
    "# convert the image to floats\n",
    "test_image = test_image.float()\n",
    "plt.imshow(test_image, cmap=\"gray\", vmin=0, vmax=255)\n",
    "# show how many data we have\n",
    "print(\"# of training data:\", len(mnist_training))\n",
    "print(\"# of testing data:\", len(mnist_test))\n"
   ],
   "metadata": {
    "collapsed": false,
    "pycharm": {
     "name": "#%%\n"
    }
   }
  },
  {
   "cell_type": "code",
   "execution_count": 28,
   "outputs": [],
   "source": [
    "# re-shape the images into vectors\n",
    "\n",
    "def label_to_vector(label: int):\n",
    "\ttarget_vector = torch.zeros([len(training_label_options)])\n",
    "\ttarget_vector[label_to_index[label]] = 1.0\n",
    "\treturn target_vector\n",
    "\n",
    "mnist_training_vectors = [(image.view([-1]), label_to_vector(label)) for image, label in mnist_training]\n",
    "mnist_test_vectors = [(image.view([-1]), label_to_vector(label)) for image, label in mnist_test]\n"
   ],
   "metadata": {
    "collapsed": false,
    "pycharm": {
     "name": "#%%\n"
    }
   }
  },
  {
   "cell_type": "code",
   "execution_count": 53,
   "outputs": [],
   "source": [
    "# define my generic simple net class\n",
    "class SimpleNet(nn.Module):\n",
    "\tdef __init__(self, input_size, hidden_layer_size, output_size):\n",
    "\t\tsuper(SimpleNet, self).__init__()\n",
    "\t\t# save the meta-parameters\n",
    "\t\tself.input_size = input_size\n",
    "\t\tself.hidden_layer_size = hidden_layer_size\n",
    "\t\tself.output_size = output_size\n",
    "\t\tself.hidden_layers_count = 2\n",
    "\t\t# create layer transitions\n",
    "\t\tself.layer_input_to_1 = nn.Linear(self.input_size, self.hidden_layer_size, True).cuda()\n",
    "\t\tself.layer_1_to_2 = nn.Linear(self.hidden_layer_size, self.hidden_layer_size, True).cuda()\n",
    "\t\tself.layer_2_to_output = nn.Linear(self.hidden_layer_size, self.output_size, True).cuda()\n",
    " \n",
    "\tdef forward(self, x: torch.Tensor):\n",
    "\t\tx = x.cuda()\n",
    "\t\tx = torch.sigmoid(self.layer_input_to_1(x))\n",
    "\t\tx = torch.sigmoid(self.layer_1_to_2(x))\n",
    "\t\tx = torch.sigmoid(self.layer_2_to_output(x))\n",
    "\t\treturn x\n",
    "\t\n",
    "def forward_grayscale_image(net, image: torch.Tensor):\n",
    "\tx = image.view([-1]).cuda()\n",
    "\treturn net.forward(x)\n",
    "\n",
    "# function to test accuracy on a dataset\n",
    "def calculate_accuracy(net, test_data):\n",
    "\ttotal_count = len(test_data)\n",
    "\tif total_count == 0:\n",
    "\t\tprint(\"no data to test\")\n",
    "\t\treturn 0\n",
    "\tcorrect = 0\n",
    "\tfor input_image, correct_output in test_data:\n",
    "\t\tcorrect_label = argmax_tensor(correct_output)\n",
    "\t\tactual_output = forward_grayscale_image(net, input_image)\n",
    "\t\tactual_label = training_label_options[argmax_tensor(actual_output)]\n",
    "\t\tif actual_label == correct_label:\n",
    "\t\t\tcorrect += 1\n",
    "\treturn correct / total_count\n"
   ],
   "metadata": {
    "collapsed": false,
    "pycharm": {
     "name": "#%%\n"
    }
   }
  },
  {
   "cell_type": "code",
   "execution_count": 54,
   "outputs": [
    {
     "name": "stdout",
     "output_type": "stream",
     "text": [
      "SimpleNet(\n",
      "  (layer_input_to_1): Linear(in_features=784, out_features=30, bias=True)\n",
      "  (layer_1_to_2): Linear(in_features=30, out_features=30, bias=True)\n",
      "  (layer_2_to_output): Linear(in_features=30, out_features=10, bias=True)\n",
      ")\n",
      "6\n"
     ]
    }
   ],
   "source": [
    "# construct an instance\n",
    "linear_input_size = 1\n",
    "for dimension_size in training_dimensions:\n",
    "\tlinear_input_size *= dimension_size\n",
    "net_MNIST = SimpleNet(linear_input_size, 30, len(training_label_options))\n",
    "\n",
    "print(net_MNIST)\n",
    "params = list(net_MNIST.parameters())\n",
    "print(len(params))\n"
   ],
   "metadata": {
    "collapsed": false,
    "pycharm": {
     "name": "#%%\n"
    }
   }
  },
  {
   "cell_type": "code",
   "execution_count": 62,
   "outputs": [
    {
     "name": "stdout",
     "output_type": "stream",
     "text": [
      "verification_accuracy_current: 0.1\n",
      "verification_accuracy_current: 0.1\n",
      "verification_accuracy_current: 0.1\n",
      "verification_accuracy_current: 0.1\n",
      "verification_accuracy_current: 0.09916666666666667\n",
      "verification_accuracy_current: 0.0975\n",
      "verification_accuracy_current: 0.0975\n",
      "verification_accuracy_current: 0.0975\n",
      "verification_accuracy_current: 0.0975\n",
      "verification_accuracy_current: 0.0975\n",
      "verification_accuracy_current: 0.0975\n",
      "verification_accuracy_current: 0.0975\n",
      "verification_accuracy_current: 0.0975\n"
     ]
    },
    {
     "ename": "KeyboardInterrupt",
     "evalue": "",
     "output_type": "error",
     "traceback": [
      "\u001B[0;31m---------------------------------------------------------------------------\u001B[0m",
      "\u001B[0;31mKeyboardInterrupt\u001B[0m                         Traceback (most recent call last)",
      "\u001B[0;32m<ipython-input-62-7cdf20cf9e89>\u001B[0m in \u001B[0;36m<module>\u001B[0;34m()\u001B[0m\n\u001B[1;32m     73\u001B[0m \u001B[0;34m\u001B[0m\u001B[0m\n\u001B[1;32m     74\u001B[0m \u001B[0mLEARNING_RATE\u001B[0m \u001B[0;34m=\u001B[0m \u001B[0;36m1e-2\u001B[0m\u001B[0;34m\u001B[0m\u001B[0;34m\u001B[0m\u001B[0m\n\u001B[0;32m---> 75\u001B[0;31m \u001B[0mtrain\u001B[0m\u001B[0;34m(\u001B[0m\u001B[0mnet_MNIST\u001B[0m\u001B[0;34m,\u001B[0m \u001B[0mmnist_training_vectors\u001B[0m\u001B[0;34m,\u001B[0m \u001B[0mLEARNING_RATE\u001B[0m\u001B[0;34m,\u001B[0m \u001B[0;36m100\u001B[0m\u001B[0;34m)\u001B[0m\u001B[0;34m\u001B[0m\u001B[0;34m\u001B[0m\u001B[0m\n\u001B[0m\u001B[1;32m     76\u001B[0m \u001B[0;34m\u001B[0m\u001B[0m\n\u001B[1;32m     77\u001B[0m \u001B[0;34m\u001B[0m\u001B[0m\n",
      "\u001B[0;32m<ipython-input-62-7cdf20cf9e89>\u001B[0m in \u001B[0;36mtrain\u001B[0;34m(model, full_training_data, learning_rate, batch_size)\u001B[0m\n\u001B[1;32m     58\u001B[0m                         \u001B[0;31m# if first_batch:\u001B[0m\u001B[0;34m\u001B[0m\u001B[0;34m\u001B[0m\u001B[0;34m\u001B[0m\u001B[0m\n\u001B[1;32m     59\u001B[0m                         \u001B[0;31m#       print(\"grad:\", list(model.parameters())[0].grad)\u001B[0m\u001B[0;34m\u001B[0m\u001B[0;34m\u001B[0m\u001B[0;34m\u001B[0m\u001B[0m\n\u001B[0;32m---> 60\u001B[0;31m                         \u001B[0moptimizer\u001B[0m\u001B[0;34m.\u001B[0m\u001B[0mstep\u001B[0m\u001B[0;34m(\u001B[0m\u001B[0;34m)\u001B[0m\u001B[0;34m\u001B[0m\u001B[0;34m\u001B[0m\u001B[0m\n\u001B[0m\u001B[1;32m     61\u001B[0m                         \u001B[0mfirst_batch\u001B[0m \u001B[0;34m=\u001B[0m \u001B[0;32mFalse\u001B[0m\u001B[0;34m\u001B[0m\u001B[0;34m\u001B[0m\u001B[0m\n\u001B[1;32m     62\u001B[0m                 \u001B[0mverification_accuracy_previous\u001B[0m \u001B[0;34m=\u001B[0m \u001B[0mverification_accuracy_current\u001B[0m\u001B[0;34m\u001B[0m\u001B[0;34m\u001B[0m\u001B[0m\n",
      "\u001B[0;32m/usr/local/lib/python3.6/dist-packages/torch/optim/sgd.py\u001B[0m in \u001B[0;36mstep\u001B[0;34m(self, closure)\u001B[0m\n\u001B[1;32m    104\u001B[0m                         \u001B[0md_p\u001B[0m \u001B[0;34m=\u001B[0m \u001B[0mbuf\u001B[0m\u001B[0;34m\u001B[0m\u001B[0;34m\u001B[0m\u001B[0m\n\u001B[1;32m    105\u001B[0m \u001B[0;34m\u001B[0m\u001B[0m\n\u001B[0;32m--> 106\u001B[0;31m                 \u001B[0mp\u001B[0m\u001B[0;34m.\u001B[0m\u001B[0mdata\u001B[0m\u001B[0;34m.\u001B[0m\u001B[0madd_\u001B[0m\u001B[0;34m(\u001B[0m\u001B[0;34m-\u001B[0m\u001B[0mgroup\u001B[0m\u001B[0;34m[\u001B[0m\u001B[0;34m'lr'\u001B[0m\u001B[0;34m]\u001B[0m\u001B[0;34m,\u001B[0m \u001B[0md_p\u001B[0m\u001B[0;34m)\u001B[0m\u001B[0;34m\u001B[0m\u001B[0;34m\u001B[0m\u001B[0m\n\u001B[0m\u001B[1;32m    107\u001B[0m \u001B[0;34m\u001B[0m\u001B[0m\n\u001B[1;32m    108\u001B[0m         \u001B[0;32mreturn\u001B[0m \u001B[0mloss\u001B[0m\u001B[0;34m\u001B[0m\u001B[0;34m\u001B[0m\u001B[0m\n",
      "\u001B[0;31mKeyboardInterrupt\u001B[0m: "
     ]
    }
   ],
   "source": [
    "# train the net\n",
    "\n",
    "def training_pairs_to_tensors(list_of_pairs):\n",
    "\tfirst = torch.stack([t[0] for t in list_of_pairs])\n",
    "\tsecond = torch.stack([t[1] for t in list_of_pairs])\n",
    "\treturn first, second\n",
    "\n",
    "def create_batches(training_data, minimum_batch_size):\n",
    "\tdata_count = len(training_data)\n",
    "\tnumber_of_batches = data_count // minimum_batch_size\n",
    "\tbatches = [list() for i in range(number_of_batches)]\n",
    "\tunused_datum_indices = set(range(data_count))\n",
    "\tbatch_index = 0\n",
    "\twhile len(unused_datum_indices) > 0:\n",
    "\t\tchosen_index = unused_datum_indices.pop()\n",
    "\t\tbatches[batch_index].append(training_data[chosen_index])\n",
    "\t\tbatch_index += 1\n",
    "\t\tbatch_index %= number_of_batches\n",
    "\treturn batches\n",
    "\n",
    "def train(model, full_training_data, learning_rate, batch_size):\n",
    "\t# split training data into training and verification\n",
    "\tsplit_index = int(len(full_training_data) * 0.9)\n",
    "\ttraining_data = full_training_data[:split_index]\n",
    "\tverification_data = full_training_data[split_index:]\n",
    "\t# make a place to record accuracy\n",
    "\tdomain = list()\n",
    "\taccuracy_values = list()\n",
    "\t# ensures the next loop runs at least once\n",
    "\tverification_accuracy_previous = -1.0\n",
    "\tverification_accuracy_current = calculate_accuracy(model, verification_data)\n",
    "\t# save accuracy\n",
    "\ttime_training_start = time.time()\n",
    "\tdomain.append(time.time() - time_training_start)\n",
    "\taccuracy_values.append(verification_accuracy_current)\n",
    "\t# make our loss function and optimizer\n",
    "\tcriterion = nn.MSELoss(reduction=\"sum\")\n",
    "\toptimizer = optim.SGD(model.parameters(), lr=learning_rate)\n",
    "\t# train until the verification accuracy goes down by more than a specified margin\n",
    "\tepochs = 0\n",
    "\twhile epochs < 30 or verification_accuracy_current - verification_accuracy_previous > -0.005:\n",
    "\t\tepochs += 1\n",
    "\t\t# make batches\n",
    "\t\tbatches = create_batches(training_data, batch_size)\n",
    "\t\t# use the batches for gradient descent\n",
    "\t\tfirst_batch = True\n",
    "\t\tfor batch in batches:\n",
    "\t\t\t# unzip the training data into two huge tensors\n",
    "\t\t\tbatch_inputs_stacked, batch_outputs_stacked = training_pairs_to_tensors(batch)\n",
    "\t\t\tbatch_inputs_stacked = batch_inputs_stacked.cuda()\n",
    "\t\t\tbatch_outputs_stacked = batch_outputs_stacked.cuda()\n",
    "\t\t\t# put the batch through\n",
    "\t\t\toutput = model(batch_inputs_stacked)\n",
    "\t\t\tloss = criterion(output, batch_outputs_stacked)\n",
    "\t\t\toptimizer.zero_grad()\n",
    "\t\t\tloss.backward()\n",
    "\t\t\t# if first_batch:\n",
    "\t\t\t# \tprint(\"grad:\", list(model.parameters())[0].grad)\n",
    "\t\t\toptimizer.step()\n",
    "\t\t\tfirst_batch = False\n",
    "\t\tverification_accuracy_previous = verification_accuracy_current\n",
    "\t\tverification_accuracy_current = calculate_accuracy(model, verification_data)\n",
    "\t\t# save accuracy\n",
    "\t\tdomain.append(time.time() - time_training_start)\n",
    "\t\taccuracy_values.append(verification_accuracy_current)\n",
    "\t\tprint(\"verification_accuracy_current:\", verification_accuracy_current)\n",
    "\t# plot the accuracy over time\n",
    "\tplt.plot(domain, accuracy_values)\n",
    "\tplt.xlabel(\"time elapsed (s)\")\n",
    "\tplt.ylabel(\"accuracy\")\n",
    "\tplt.show()\n",
    "\n",
    "LEARNING_RATE = 1e-2\n",
    "train(net_MNIST, mnist_training_vectors, LEARNING_RATE, 100)\n"
   ],
   "metadata": {
    "collapsed": false,
    "pycharm": {
     "name": "#%%\n"
    }
   }
  },
  {
   "cell_type": "code",
   "execution_count": null,
   "outputs": [],
   "source": [
    "# run some tests\n",
    "final_accuracy = calculate_accuracy(net_MNIST, mnist_test_vectors)\n",
    "print(\"final accuracy:\", final_accuracy)\n",
    "\n"
   ],
   "metadata": {
    "collapsed": false,
    "pycharm": {
     "name": "#%%\n"
    }
   }
  }
 ],
 "metadata": {
  "kernelspec": {
   "display_name": "Python 3",
   "language": "python",
   "name": "python3"
  },
  "language_info": {
   "codemirror_mode": {
    "name": "ipython",
    "version": 2
   },
   "file_extension": ".py",
   "mimetype": "text/x-python",
   "name": "python",
   "nbconvert_exporter": "python",
   "pygments_lexer": "ipython2",
   "version": "2.7.6"
  }
 },
 "nbformat": 4,
 "nbformat_minor": 0
}