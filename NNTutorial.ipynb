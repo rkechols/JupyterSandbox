{
 "cells": [
  {
   "cell_type": "code",
   "execution_count": 1,
   "outputs": [
    {
     "name": "stdout",
     "output_type": "stream",
     "text": [
      "cuda:0\n"
     ]
    }
   ],
   "source": [
    "import torch\n",
    "\n",
    "# see if we have a gpu\n",
    "device = torch.device(\"cuda:0\" if torch.cuda.is_available() else \"cpu\")\n",
    "print(device)\n"
   ],
   "metadata": {
    "collapsed": false,
    "pycharm": {
     "name": "#%%\n"
    }
   }
  },
  {
   "cell_type": "code",
   "execution_count": 2,
   "outputs": [],
   "source": [
    "import torchvision\n",
    "from torch.utils.data import DataLoader\n",
    "import torchvision.transforms as transforms\n",
    "\n",
    "# load the MNIST dataset\n",
    "transform = transforms.ToTensor()\n",
    "mnist_train_data = torchvision.datasets.mnist.MNIST(root=\"./data\", train=True, transform=transform, download=True)\n",
    "mnist_train_loader = DataLoader(mnist_train_data, batch_size=30, shuffle=True, num_workers=2)\n",
    "mnist_test_data = torchvision.datasets.mnist.MNIST(root=\"./data\", train=False, transform=transform, download=True)\n",
    "mnist_test_loader = DataLoader(mnist_test_data, batch_size=30, shuffle=False, num_workers=2)\n",
    "classes = tuple([str(i) for i in range(10)])\n"
   ],
   "metadata": {
    "collapsed": false,
    "pycharm": {
     "name": "#%%\n"
    }
   }
  },
  {
   "cell_type": "code",
   "execution_count": 3,
   "outputs": [
    {
     "data": {
      "text/plain": "<matplotlib.figure.Figure at 0x7f7b2ad8ef28>",
      "image/png": "[encoded data removed]"
     },
     "metadata": {},
     "output_type": "display_data"
    },
    {
     "name": "stdout",
     "output_type": "stream",
     "text": [
      "    1     2     2     8     1     0     8     8     9     3     0     5     0     7     1     7     2     5     4     7     6     3     3     7     0     1     9     9     9     7\n"
     ]
    }
   ],
   "source": [
    "import matplotlib.pyplot as plt\n",
    "%matplotlib inline\n",
    "import numpy as np\n",
    "\n",
    "# function to show an image\n",
    "def show_image(img):\n",
    "\tnp_image = img.numpy()\n",
    "\tplt.imshow(np.transpose(np_image, (1, 2, 0)))\n",
    "\tplt.show()\n",
    "\n",
    "# get some random training images\n",
    "data_iter = iter(mnist_train_loader)\n",
    "images, labels = data_iter.next()\n",
    "\n",
    "# show images\n",
    "show_image(torchvision.utils.make_grid(images))\n",
    "# print labels\n",
    "print(' '.join('%5s' % classes[labels[j]] for j in range(len(images))))\n"
   ],
   "metadata": {
    "collapsed": false,
    "pycharm": {
     "name": "#%%\n"
    }
   }
  },
  {
   "cell_type": "code",
   "execution_count": 4,
   "outputs": [],
   "source": [
    "import torch.nn as nn\n",
    "import torch.nn.functional as f\n",
    "import copy\n",
    "\n",
    "# make a network\n",
    "class SimpleMnistNet(nn.Module):\n",
    "\tdef __init__(self):\n",
    "\t\tsuper(SimpleMnistNet, self).__init__()\n",
    "\t\tself.fc1 = nn.Linear(28 * 28, 120)\n",
    "\t\tself.fc2 = nn.Linear(120, 84)\n",
    "\t\tself.fc3 = nn.Linear(84, 10)\n",
    "\t\tself.first = True\n",
    "\n",
    "\tdef forward(self, x):\n",
    "\t\tif self.first:\n",
    "\t\t\tself.first = False\n",
    "\t\t\ty = copy.deepcopy(x)\n",
    "\t\t\tprint(y.shape)\n",
    "\t\tx = x.view(-1, 28 * 28)\n",
    "\t\tx = f.relu(self.fc1(x))\n",
    "\t\tx = f.relu(self.fc2(x))\n",
    "\t\tx = self.fc3(x)\n",
    "\t\treturn x\n",
    "\n",
    "net = SimpleMnistNet()\n"
   ],
   "metadata": {
    "collapsed": false,
    "pycharm": {
     "name": "#%%\n"
    }
   }
  },
  {
   "cell_type": "code",
   "execution_count": 5,
   "outputs": [],
   "source": [
    "# loss function and optimizer\n",
    "import torch.optim as optim\n",
    "\n",
    "criterion = nn.CrossEntropyLoss()\n",
    "optimizer = optim.SGD(net.parameters(), lr=0.001, momentum=0.9)\n"
   ],
   "metadata": {
    "collapsed": false,
    "pycharm": {
     "name": "#%%\n"
    }
   }
  },
  {
   "cell_type": "code",
   "execution_count": 7,
   "outputs": [
    {
     "name": "stdout",
     "output_type": "stream",
     "text": [
      "[1,   100] loss: 0.016\n",
      "[1,   200] loss: 0.017\n",
      "[1,   300] loss: 0.017\n",
      "[1,   400] loss: 0.016\n",
      "[1,   500] loss: 0.018\n",
      "[1,   600] loss: 0.015\n",
      "[1,   700] loss: 0.016\n",
      "[1,   800] loss: 0.016\n",
      "[1,   900] loss: 0.016\n",
      "[1,  1000] loss: 0.016\n",
      "[1,  1100] loss: 0.016\n",
      "[1,  1200] loss: 0.016\n",
      "[1,  1300] loss: 0.015\n",
      "[1,  1400] loss: 0.014\n",
      "[1,  1500] loss: 0.016\n",
      "[1,  1600] loss: 0.015\n",
      "[1,  1700] loss: 0.016\n",
      "[1,  1800] loss: 0.014\n",
      "[1,  1900] loss: 0.013\n",
      "[1,  2000] loss: 0.014\n",
      "[2,   100] loss: 0.014\n",
      "[2,   200] loss: 0.014\n",
      "[2,   300] loss: 0.013\n",
      "[2,   400] loss: 0.014\n",
      "[2,   500] loss: 0.014\n",
      "[2,   600] loss: 0.013\n",
      "[2,   700] loss: 0.013\n",
      "[2,   800] loss: 0.013\n",
      "[2,   900] loss: 0.013\n",
      "[2,  1000] loss: 0.014\n",
      "[2,  1100] loss: 0.014\n",
      "[2,  1200] loss: 0.014\n",
      "[2,  1300] loss: 0.015\n",
      "[2,  1400] loss: 0.014\n",
      "[2,  1500] loss: 0.014\n",
      "[2,  1600] loss: 0.013\n",
      "[2,  1700] loss: 0.014\n",
      "[2,  1800] loss: 0.013\n",
      "[2,  1900] loss: 0.013\n",
      "[2,  2000] loss: 0.013\n",
      "Finished Training\n"
     ]
    }
   ],
   "source": [
    "# train the network\n",
    "\n",
    "PRINT_FREQUENCY = 100\n",
    "\n",
    "net.to(device)\n",
    "for epoch in range(2):  # loop over the dataset multiple times\n",
    "\n",
    "\trunning_loss = 0.0\n",
    "\tfor i, data in enumerate(mnist_train_loader, 0):\n",
    "\t\t# get the inputs; data is a list of [inputs, labels]\n",
    "\t\tinputs, labels = data[0].to(device), data[1].to(device)\n",
    "\n",
    "\t\t# zero the parameter gradients\n",
    "\t\toptimizer.zero_grad()\n",
    "\n",
    "\t\t# forward + backward + optimize\n",
    "\t\toutputs = net(inputs)\n",
    "\t\tloss = criterion(outputs, labels)\n",
    "\t\tloss.backward()\n",
    "\t\toptimizer.step()\n",
    "\n",
    "\t\t# print statistics\n",
    "\t\trunning_loss += loss.item()\n",
    "\t\tif i % PRINT_FREQUENCY == (PRINT_FREQUENCY - 1):\t# print the occasional mini-batch\n",
    "\t\t\tprint('[%d, %5d] loss: %.3f' %\n",
    "\t\t\t\t  (epoch + 1, i + 1, running_loss / 2000))\n",
    "\t\t\trunning_loss = 0.0\n",
    "\n",
    "print('Finished Training')\n"
   ],
   "metadata": {
    "collapsed": false,
    "pycharm": {
     "name": "#%%\n"
    }
   }
  },
  {
   "cell_type": "code",
   "execution_count": 8,
   "outputs": [],
   "source": [
    "# save net state\n",
    "\n",
    "PATH = './mnist_net.pth'\n",
    "torch.save(net.state_dict(), PATH)\n"
   ],
   "metadata": {
    "collapsed": false,
    "pycharm": {
     "name": "#%%\n"
    }
   }
  },
  {
   "cell_type": "code",
   "execution_count": null,
   "outputs": [],
   "source": [
    "# re-load the saved state\n",
    "\n",
    "net = SimpleMnistNet()\n",
    "net.load_state_dict(torch.load(PATH))\n",
    "net.to(device)\n"
   ],
   "metadata": {
    "collapsed": false,
    "pycharm": {
     "name": "#%%\n"
    }
   }
  },
  {
   "cell_type": "code",
   "execution_count": 9,
   "outputs": [
    {
     "name": "stdout",
     "output_type": "stream",
     "text": [
      "Accuracy of the network on the 10000 test images: 92 %\n"
     ]
    }
   ],
   "source": [
    "# test the overall accuracy\n",
    "\n",
    "correct = 0\n",
    "total = 0\n",
    "with torch.no_grad():\n",
    "\tfor data in mnist_test_loader:\n",
    "\t\timages, labels = data[0].to(device), data[1].to(device)\n",
    "\t\toutputs = net(images)\n",
    "\t\t_, predicted = torch.max(outputs.data, 1)\n",
    "\t\ttotal += labels.size(0)\n",
    "\t\tcorrect += (predicted == labels).sum().item()\n",
    "\n",
    "print('Accuracy of the network on the 10000 test images: %d %%' % (\n",
    "\t100 * correct / total))\n"
   ],
   "metadata": {
    "collapsed": false,
    "pycharm": {
     "name": "#%%\n"
    }
   }
  },
  {
   "cell_type": "code",
   "execution_count": 12,
   "outputs": [
    {
     "name": "stdout",
     "output_type": "stream",
     "text": [
      "tensor([[ 1063.6884, -2402.7039,  2370.9529,  2534.7224, -3156.7627,  1499.8308,\n",
      "         -2769.9602,  -775.0450,  2644.1987,  -342.4733]], device='cuda:0',\n",
      "       grad_fn=<AddmmBackward>)\n",
      "8\n"
     ]
    }
   ],
   "source": [
    "import cv2\n",
    "\n",
    "# load a home-made image\n",
    "test_image_path = \"./HomeTests/03-8.png\"\n",
    "test_image = cv2.imread(test_image_path, cv2.IMREAD_GRAYSCALE)\n",
    "test_image_tensor = torch.tensor(test_image, dtype=torch.float).to(device)\n",
    "test_output = net(test_image_tensor)\n",
    "print(test_output)\n",
    "print(classes[torch.argmax(test_output, dim=1).item()])\n",
    "\n"
   ],
   "metadata": {
    "collapsed": false,
    "pycharm": {
     "name": "#%%\n"
    }
   }
  }
 ],
 "metadata": {
  "kernelspec": {
   "display_name": "Python 3",
   "language": "python",
   "name": "python3"
  },
  "language_info": {
   "codemirror_mode": {
    "name": "ipython",
    "version": 2
   },
   "file_extension": ".py",
   "mimetype": "text/x-python",
   "name": "python",
   "nbconvert_exporter": "python",
   "pygments_lexer": "ipython2",
   "version": "2.7.6"
  }
 },
 "nbformat": 4,
 "nbformat_minor": 0
}