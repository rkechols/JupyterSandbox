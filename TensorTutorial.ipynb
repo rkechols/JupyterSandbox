{
 "cells": [
  {
   "cell_type": "code",
   "execution_count": 57,
   "outputs": [],
   "source": [
    "# imports\n",
    "from __future__ import print_function\n",
    "import time\n",
    "import numpy as np\n",
    "from matplotlib import pyplot as plt\n",
    "import torch\n",
    "import torchvision"
   ],
   "metadata": {
    "collapsed": false,
    "pycharm": {
     "name": "#%%\n",
     "is_executing": false
    }
   }
  },
  {
   "cell_type": "code",
   "execution_count": 58,
   "outputs": [
    {
     "name": "stdout",
     "text": [
      "hi\n",
      "tensor([[0., 0., 0.],\n",
      "        [0., 0., 0.],\n",
      "        [0., 0., 0.],\n",
      "        [0., 0., 0.],\n",
      "        [0., 0., 0.]], dtype=torch.float64)\n",
      "tensor([[1, 1, 1],\n",
      "        [1, 1, 1],\n",
      "        [1, 1, 1],\n",
      "        [1, 1, 1],\n",
      "        [1, 1, 1]], dtype=torch.int32)\n",
      "torch.Size([5, 3])\n"
     ],
     "output_type": "stream"
    }
   ],
   "source": [
    "print(\"hi\")\n",
    "# default type is torch.float\n",
    "x = torch.zeros(5, 3, dtype=torch.double)\n",
    "print(x)\n",
    "x = torch.ones_like(x, dtype=torch.int)      # new_* methods take in sizes\n",
    "print(x)\n",
    "print(x.size())"
   ],
   "metadata": {
    "collapsed": false,
    "pycharm": {
     "name": "#%%\n",
     "is_executing": false
    }
   }
  },
  {
   "cell_type": "code",
   "execution_count": 59,
   "outputs": [
    {
     "name": "stdout",
     "text": [
      "before:\n",
      "tensor([[1, 1, 1],\n",
      "        [1, 1, 1],\n",
      "        [1, 1, 1],\n",
      "        [1, 1, 1],\n",
      "        [1, 1, 1]], dtype=torch.int32)\n",
      "tensor([[1, 1, 1],\n",
      "        [1, 1, 1],\n",
      "        [1, 1, 1],\n",
      "        [1, 1, 1],\n",
      "        [1, 1, 1]], dtype=torch.int32)\n",
      "after:\n",
      "tensor([[1, 1, 1],\n",
      "        [1, 1, 1],\n",
      "        [1, 1, 1],\n",
      "        [1, 1, 1],\n",
      "        [1, 1, 1]], dtype=torch.int32)\n",
      "tensor([[2, 2, 2],\n",
      "        [2, 2, 2],\n",
      "        [2, 2, 2],\n",
      "        [2, 2, 2],\n",
      "        [2, 2, 2]], dtype=torch.int32)\n",
      "copy:\n",
      "tensor([[2, 2, 2],\n",
      "        [2, 2, 2],\n",
      "        [2, 2, 2],\n",
      "        [2, 2, 2],\n",
      "        [2, 2, 2]], dtype=torch.int32)\n",
      "tensor([[2, 2, 2],\n",
      "        [2, 2, 2],\n",
      "        [2, 2, 2],\n",
      "        [2, 2, 2],\n",
      "        [2, 2, 2]], dtype=torch.int32)\n"
     ],
     "output_type": "stream"
    }
   ],
   "source": [
    "y = torch.ones_like(x, dtype=torch.int)\n",
    "print(\"before:\")\n",
    "print(x)\n",
    "print(y)\n",
    "print(\"after:\")\n",
    "y.add_(x)\n",
    "print(x)\n",
    "print(y)\n",
    "print(\"copy:\")\n",
    "x.copy_(y)\n",
    "print(x)\n",
    "print(y)"
   ],
   "metadata": {
    "collapsed": false,
    "pycharm": {
     "name": "#%%\n",
     "is_executing": false
    }
   }
  },
  {
   "cell_type": "code",
   "execution_count": 60,
   "outputs": [
    {
     "name": "stdout",
     "text": [
      "tensor([[ 0,  1, -1,  0],\n",
      "        [ 1, -1, -1,  1],\n",
      "        [ 0, -2, -1,  0]])\n",
      "tensor([[ 0,  1],\n",
      "        [-1,  0],\n",
      "        [ 1, -1],\n",
      "        [-1,  1],\n",
      "        [ 0, -2],\n",
      "        [-1,  0]])\n",
      "tensor([7], dtype=torch.uint8)\n",
      "7\n",
      "tensor([253], dtype=torch.uint8)\n",
      "253\n"
     ],
     "output_type": "stream"
    }
   ],
   "source": [
    "x = torch.randint(-2, 2, (3, 4))\n",
    "print(x)\n",
    "y = x.view(-1, 2)\n",
    "print(y)\n",
    "\n",
    "x = torch.randint(0, 9, [1], dtype=torch.uint8)  # randn allows negatives\n",
    "print(x)\n",
    "print(x.item())\n",
    "x[-1] = -3\n",
    "print(x)\n",
    "print(x.item())"
   ],
   "metadata": {
    "collapsed": false,
    "pycharm": {
     "name": "#%%\n",
     "is_executing": false
    }
   }
  },
  {
   "cell_type": "code",
   "execution_count": 61,
   "outputs": [
    {
     "name": "stdout",
     "text": [
      "tensor([[2, 1, 7],\n",
      "        [0, 1, 8],\n",
      "        [0, 7, 4]], dtype=torch.int32)\n",
      "[[ 2 42  7]\n",
      " [ 0 42  8]\n",
      " [ 0 42  4]]\n",
      "tensor([[ 2, 42,  7],\n",
      "        [ 0, 42,  8],\n",
      "        [ 0, 42,  4]], dtype=torch.int32)\n"
     ],
     "output_type": "stream"
    }
   ],
   "source": [
    "x = torch.randint(0, 9, [3, 3], dtype=torch.int)  # randn allows negatives\n",
    "print(x)\n",
    "z = x.numpy()\n",
    "z[:, 1] = 42\n",
    "print(z)\n",
    "print(torch.from_numpy(z))"
   ],
   "metadata": {
    "collapsed": false,
    "pycharm": {
     "name": "#%%\n",
     "is_executing": false
    }
   }
  },
  {
   "cell_type": "code",
   "execution_count": 62,
   "outputs": [
    {
     "name": "stdout",
     "text": [
      "tensor([[1, 0, 0],\n",
      "        [0, 0, 0],\n",
      "        [0, 0, 0],\n",
      "        [0, 0, 1],\n",
      "        [0, 0, 0]])\n",
      "tensor([[1],\n",
      "        [2],\n",
      "        [4]])\n",
      "x times y:\n",
      "tensor([[1],\n",
      "        [0],\n",
      "        [0],\n",
      "        [4],\n",
      "        [0]])\n"
     ],
     "output_type": "stream"
    }
   ],
   "source": [
    "x = torch.randint(2, [5, 3])\n",
    "print(x)\n",
    "y = torch.tensor([1, 2, 4]).reshape([-1, 1])\n",
    "print(y)\n",
    "print(\"x times y:\")\n",
    "print(x.matmul(y))"
   ],
   "metadata": {
    "collapsed": false,
    "pycharm": {
     "name": "#%%\n",
     "is_executing": false
    }
   }
  },
  {
   "cell_type": "code",
   "execution_count": 63,
   "outputs": [
    {
     "data": {
      "text/plain": "<matplotlib.figure.Figure at 0x7f4d742da8d0>",
      "image/png": "[encoded data removed]"
     },
     "metadata": {},
     "output_type": "display_data"
    }
   ],
   "source": [
    "if not torch.cuda.is_available():\n",
    "\tprint(\"no cuda available\")\n",
    "else:\n",
    "\tdevice = torch.device(\"cuda\")\n",
    "\tdomain = list()\n",
    "\tratios = list()\n",
    "\tfor n in range(1000, 15000, 1000):\n",
    "\t\tdomain.append(n)\n",
    "\t\t\n",
    "\t\tx_cpu = torch.randn([n, n])\n",
    "\t\ty_cpu = torch.randn([n, n])\n",
    "\t\ttime_start_cpu = time.time()\n",
    "\t\txy_cpu = x_cpu.matmul(y_cpu)\n",
    "\t\ttime_end_cpu = time.time()\n",
    "\t\ttime_cpu = time_end_cpu - time_start_cpu\n",
    "\t\t# print(\"CPU time:\", time_cpu)\n",
    "\t\t\n",
    "\t\tx_cuda = x_cpu.to(device)\n",
    "\t\ty_cuda = y_cpu.to(device)\n",
    "\t\ttime_start_cuda = time.time()\n",
    "\t\txy_cuda = x_cuda.matmul(y_cuda)\n",
    "\t\ttime_end_cuda = time.time()\n",
    "\t\ttime_cuda = time_end_cuda - time_start_cuda\n",
    "\t\t# print(\"CUDA time:\", time_cuda)\n",
    "\t\t\n",
    "\t\ttime_ratio = time_cpu / time_cuda\n",
    "\t\tratios.append(time_ratio)\n",
    "\t\t# print(\"CUDA is\", time_ratio, \"times faster than CPU\")\n",
    "\tplt.plot(domain, ratios)\n",
    "\tplt.xlabel(\"input size\")\n",
    "\tplt.ylabel(\"speed ratio\")\n",
    "\tplt.show()\n"
   ],
   "metadata": {
    "collapsed": false,
    "pycharm": {
     "name": "#%%\n",
     "is_executing": false
    }
   }
  }
 ],
 "metadata": {
  "kernelspec": {
   "display_name": "Python 3",
   "language": "python",
   "name": "python3"
  },
  "language_info": {
   "codemirror_mode": {
    "name": "ipython",
    "version": 3
   },
   "file_extension": ".py",
   "mimetype": "text/x-python",
   "name": "python",
   "nbconvert_exporter": "python",
   "pygments_lexer": "ipython3",
   "version": "3.8.0"
  },
  "pycharm": {
   "stem_cell": {
    "cell_type": "raw",
    "source": [],
    "metadata": {
     "collapsed": false
    }
   }
  }
 },
 "nbformat": 4,
 "nbformat_minor": 1
}